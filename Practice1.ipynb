{
 "cells": [
  {
   "cell_type": "code",
   "execution_count": 3,
   "id": "81ca4880",
   "metadata": {},
   "outputs": [
    {
     "data": {
      "text/plain": [
       "9.0"
      ]
     },
     "execution_count": 3,
     "metadata": {},
     "output_type": "execute_result"
    }
   ],
   "source": [
    "3+1.5+4+0.5"
   ]
  },
  {
   "cell_type": "code",
   "execution_count": 4,
   "id": "a4373fc0",
   "metadata": {},
   "outputs": [
    {
     "data": {
      "text/plain": [
       "float"
      ]
     },
     "execution_count": 4,
     "metadata": {},
     "output_type": "execute_result"
    }
   ],
   "source": [
    "type(9.0)"
   ]
  },
  {
   "cell_type": "code",
   "execution_count": 5,
   "id": "4846ffdc",
   "metadata": {},
   "outputs": [
    {
     "data": {
      "text/plain": [
       "9"
      ]
     },
     "execution_count": 5,
     "metadata": {},
     "output_type": "execute_result"
    }
   ],
   "source": [
    "int(9.0)"
   ]
  },
  {
   "cell_type": "code",
   "execution_count": 6,
   "id": "292bb893",
   "metadata": {},
   "outputs": [
    {
     "data": {
      "text/plain": [
       "int"
      ]
     },
     "execution_count": 6,
     "metadata": {},
     "output_type": "execute_result"
    }
   ],
   "source": [
    "type(int(0.9))"
   ]
  },
  {
   "cell_type": "code",
   "execution_count": 7,
   "id": "c2352f15",
   "metadata": {},
   "outputs": [
    {
     "data": {
      "text/plain": [
       "0"
      ]
     },
     "execution_count": 7,
     "metadata": {},
     "output_type": "execute_result"
    }
   ],
   "source": [
    "int(0.9)"
   ]
  },
  {
   "cell_type": "code",
   "execution_count": 8,
   "id": "f0711d46",
   "metadata": {},
   "outputs": [
    {
     "data": {
      "text/plain": [
       "2"
      ]
     },
     "execution_count": 8,
     "metadata": {},
     "output_type": "execute_result"
    }
   ],
   "source": [
    "int(2.5)"
   ]
  },
  {
   "cell_type": "code",
   "execution_count": 10,
   "id": "af15af96",
   "metadata": {},
   "outputs": [],
   "source": [
    "import math "
   ]
  },
  {
   "cell_type": "code",
   "execution_count": 11,
   "id": "fd31b11d",
   "metadata": {},
   "outputs": [],
   "source": [
    "m=16"
   ]
  },
  {
   "cell_type": "code",
   "execution_count": 16,
   "id": "86bd1d9a",
   "metadata": {},
   "outputs": [
    {
     "data": {
      "text/plain": [
       "int"
      ]
     },
     "execution_count": 16,
     "metadata": {},
     "output_type": "execute_result"
    }
   ],
   "source": [
    "type(int(math.sqrt(m)))"
   ]
  },
  {
   "cell_type": "code",
   "execution_count": 42,
   "id": "5c10711b",
   "metadata": {},
   "outputs": [
    {
     "name": "stdout",
     "output_type": "stream",
     "text": [
      "enter the first number:25\n",
      "enter the second number:16\n",
      "9.0\n",
      "the sum is 9.0\n"
     ]
    }
   ],
   "source": [
    "num1=float(input(\"enter the first number:\"))\n",
    "num2=float(input(\"enter the second number:\"))\n",
    "s1=math.sqrt(num1)\n",
    "s2=math.sqrt(num2)\n",
    "print(s1+s2)\n",
    "print(\"the sum is\",s1+s2)"
   ]
  },
  {
   "cell_type": "code",
   "execution_count": 23,
   "id": "b4afd1f4",
   "metadata": {},
   "outputs": [
    {
     "data": {
      "text/plain": [
       "5.0"
      ]
     },
     "execution_count": 23,
     "metadata": {},
     "output_type": "execute_result"
    }
   ],
   "source": [
    "math.sqrt(25)"
   ]
  },
  {
   "cell_type": "code",
   "execution_count": 1,
   "id": "45f5c9ea",
   "metadata": {},
   "outputs": [
    {
     "name": "stdout",
     "output_type": "stream",
     "text": [
      "Enter first number:25\n",
      "Enter second number:16\n",
      "The sum of square root of 25.0 and 16.0 is 9.0\n"
     ]
    }
   ],
   "source": [
    "# Finding sum of sqareroot of two numbers\n",
    "import math\n",
    "num1=float(input(\"Enter first number:\"))\n",
    "num2=float(input(\"Enter second number:\"))\n",
    "sqrt1=math.sqrt(num1)\n",
    "sqrt2=math.sqrt(num2)\n",
    "sqrt_sum=sqrt1+sqrt2\n",
    "print(\"The sum of square root of\",num1,\"and\",num2,\"is\",sqrt_sum)"
   ]
  },
  {
   "cell_type": "code",
   "execution_count": 3,
   "id": "2d950432",
   "metadata": {},
   "outputs": [
    {
     "name": "stdout",
     "output_type": "stream",
     "text": [
      "Enter minutes:2\n",
      "The seconds of 2.0 is 120.0\n"
     ]
    }
   ],
   "source": [
    "# Converting minute into seconds \n",
    "\n",
    "num=float(input(\"Enter minutes:\"))\n",
    "seconds=num*60\n",
    "print(\"The seconds of\",num,\"is\",seconds)"
   ]
  },
  {
   "cell_type": "code",
   "execution_count": 4,
   "id": "62466857",
   "metadata": {},
   "outputs": [
    {
     "name": "stdout",
     "output_type": "stream",
     "text": [
      "Enter any integer:2\n",
      "The next integer of  2 is 3\n"
     ]
    }
   ],
   "source": [
    "# Return the Next Number from the Integer Passed\n",
    "num=int(input(\"Enter any integer:\"))\n",
    "next_integer=num+1\n",
    "print(\"The next integer of \",num,\"is\",next_integer)"
   ]
  },
  {
   "cell_type": "code",
   "execution_count": 2,
   "id": "d1539d82",
   "metadata": {},
   "outputs": [
    {
     "name": "stdout",
     "output_type": "stream",
     "text": [
      "Enter the base of traingle:5\n",
      "Enter the height of traingle:4\n",
      "Area of traingle is 10.0\n"
     ]
    }
   ],
   "source": [
    "# Find the area of traingle\n",
    "base=float(input(\"Enter the base of traingle:\"))\n",
    "height=float(input(\"Enter the height of traingle:\"))\n",
    "Area=float((1/2)*base*height)\n",
    "print(\"Area of traingle is\",Area)"
   ]
  },
  {
   "cell_type": "code",
   "execution_count": 5,
   "id": "af20fbdf",
   "metadata": {},
   "outputs": [
    {
     "name": "stdout",
     "output_type": "stream",
     "text": [
      "Enter the age of person:1\n",
      "The person is 365 days olds\n"
     ]
    }
   ],
   "source": [
    "#convert Age to Days \n",
    "age=float(input(\"Enter the age of person:\"))\n",
    "days=365*age\n",
    "print(\"The person is\",int(days),\"days olds\")"
   ]
  },
  {
   "cell_type": "code",
   "execution_count": 13,
   "id": "94547bcd",
   "metadata": {},
   "outputs": [
    {
     "name": "stdout",
     "output_type": "stream",
     "text": [
      "Enter the index of array:3\n",
      "The value of 3 index is 8\n"
     ]
    }
   ],
   "source": [
    "#Return any value of array\n",
    "my_array = [3, 5, 2, 8, 9]\n",
    "index=int(input(\"Enter the index of array:\"))\n",
    "value=my_array[index]\n",
    "print(\"The value of\",index,\"index is\",value)"
   ]
  },
  {
   "cell_type": "code",
   "execution_count": 15,
   "id": "1795ee8c",
   "metadata": {},
   "outputs": [
    {
     "name": "stdout",
     "output_type": "stream",
     "text": [
      "Enter the number:5\n",
      "Enter the power you want to find:2\n",
      "The 2.0 power of 5.0 is 25.0\n"
     ]
    }
   ],
   "source": [
    "# Finding any power of any number\n",
    "num=float(input(\"Enter the number:\"))\n",
    "pow=float(input(\"Enter the power you want to find:\"))\n",
    "ans=num**pow\n",
    "print(\"The\",pow,\"power of\",num,\"is\",ans)"
   ]
  },
  {
   "cell_type": "code",
   "execution_count": 1,
   "id": "858d54d1",
   "metadata": {},
   "outputs": [
    {
     "name": "stdout",
     "output_type": "stream",
     "text": [
      "Enter the marks you gained:46\n",
      "Enter the total marks of exam:78\n",
      "The percentage of student is 58.97435897435898\n"
     ]
    }
   ],
   "source": [
    "# Finding the percentage of exams \n",
    "marks_gained=int(input(\"Enter the marks you gained:\"))\n",
    "total_marks=int(input(\"Enter the total marks of exam:\"))\n",
    "percentage=float((marks_gained/total_marks)*100)\n",
    "print(\"The percentage of student is\",percentage)"
   ]
  },
  {
   "cell_type": "code",
   "execution_count": null,
   "id": "d19b6202",
   "metadata": {},
   "outputs": [],
   "source": []
  }
 ],
 "metadata": {
  "kernelspec": {
   "display_name": "Python 3 (ipykernel)",
   "language": "python",
   "name": "python3"
  },
  "language_info": {
   "codemirror_mode": {
    "name": "ipython",
    "version": 3
   },
   "file_extension": ".py",
   "mimetype": "text/x-python",
   "name": "python",
   "nbconvert_exporter": "python",
   "pygments_lexer": "ipython3",
   "version": "3.9.13"
  }
 },
 "nbformat": 4,
 "nbformat_minor": 5
}
